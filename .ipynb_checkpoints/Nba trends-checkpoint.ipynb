{
 "cells": [
  {
   "cell_type": "markdown",
   "id": "03cdd9f2",
   "metadata": {},
   "source": [
    "### import libraries"
   ]
  },
  {
   "cell_type": "code",
   "execution_count": 2,
   "id": "1ef8d90c",
   "metadata": {},
   "outputs": [],
   "source": [
    "import numpy as np\n",
    "import pandas as pd\n",
    "from scipy.stats import pearsonr, chi2_contingency\n",
    "import matplotlib.pyplot as plt\n",
    "import seaborn as sns\n"
   ]
  },
  {
   "cell_type": "markdown",
   "id": "0a9e5e3c",
   "metadata": {},
   "source": [
    "### inspect and arrange data"
   ]
  },
  {
   "cell_type": "code",
   "execution_count": 3,
   "id": "8b80367e",
   "metadata": {},
   "outputs": [
    {
     "name": "stdout",
     "output_type": "stream",
     "text": [
      "            game_id  year_id fran_id  opp_fran game_location  is_playoffs  \\\n",
      "21719  200910280MIA     2010  Knicks      Heat             A            0   \n",
      "21725  200910300CHA     2010  Knicks   Hornets             A            0   \n",
      "21728  200910310NYK     2010  Knicks    Sixers             H            0   \n",
      "21734  200911020NYK     2010  Knicks  Pelicans             H            0   \n",
      "21739  200911040NYK     2010  Knicks    Pacers             H            0   \n",
      "...             ...      ...     ...       ...           ...          ...   \n",
      "22102  201004070IND     2010  Knicks    Pacers             A            0   \n",
      "22110  201004090ORL     2010  Knicks     Magic             A            0   \n",
      "22116  201004110NYK     2010  Knicks      Heat             H            0   \n",
      "22118  201004120NYK     2010  Knicks   Wizards             H            0   \n",
      "22126  201004140TOR     2010  Knicks   Raptors             A            0   \n",
      "\n",
      "       pts  opp_pts game_result  forecast  point_diff  \n",
      "21719   93      115           L  0.258755         -22  \n",
      "21725  100      102           L  0.299804          -2  \n",
      "21728  127      141           L  0.540618         -14  \n",
      "21734  117      111           W  0.533563           6  \n",
      "21739   89      101           L  0.566662         -12  \n",
      "...    ...      ...         ...       ...         ...  \n",
      "22102  105      113           L  0.270306          -8  \n",
      "22110  103      118           L  0.096270         -15  \n",
      "22116   98      111           L  0.391371         -13  \n",
      "22118  114      103           W  0.693683          11  \n",
      "22126  113      131           L  0.329143         -18  \n",
      "\n",
      "[82 rows x 11 columns]\n"
     ]
    }
   ],
   "source": [
    "np.set_printoptions(suppress=True, precision = 2)\n",
    "\n",
    "nba = pd.read_csv('./nba_games.csv')\n",
    "\n",
    "\n",
    "# Subset Data to 2010 Season, 2014 Season\n",
    "nba_2010 = nba[nba.year_id == 2010]\n",
    "nba_2014 = nba[nba.year_id == 2014]\n",
    "\n",
    "# print(nba_2010.head())\n",
    "# print(nba_2014.head())\n",
    "# seperate knicks and nets in 2010 df\n",
    "knicks_pts  = nba_2010[nba_2010.fran_id == \"Knicks\"]\n",
    "nets_pts = nba_2010[nba_2010.fran_id == \"Nets\"]\n",
    "print(knicks_pts)"
   ]
  },
  {
   "cell_type": "code",
   "execution_count": 4,
   "id": "61745776",
   "metadata": {},
   "outputs": [
    {
     "name": "stdout",
     "output_type": "stream",
     "text": [
      "9.731707317073173\n"
     ]
    }
   ],
   "source": [
    "# difference between teams average points\n",
    "avgKnicks = np.mean(knicks_pts.pts)\n",
    "avgnets = np.mean(nets_pts.pts)\n",
    "diff_means_2010 = avgKnicks - avgnets\n",
    "print(diff_means_2010)\n",
    "# mean is not a good measure of association so futher tests must be made"
   ]
  },
  {
   "cell_type": "code",
   "execution_count": 7,
   "id": "ec464e9e",
   "metadata": {},
   "outputs": [
    {
     "data": {
      "image/png": "[encoded data removed]",
      "text/plain": [
       "<Figure size 432x288 with 1 Axes>"
      ]
     },
     "metadata": {
      "needs_background": "light"
     },
     "output_type": "display_data"
    }
   ],
   "source": [
    "# create histogram to view assocation\n",
    "plt.hist(knicks_pts.pts,color = \"red\" ,alpha =0.5, label='knicks')\n",
    "plt.hist(nets_pts.pts,color = \"blue\" ,alpha =0.5,label='nets')\n",
    "plt.legend()\n",
    "plt.show()\n",
    "# the fact that histograms are not overlaping completly shows there's asociaction betweenknicks and nets points"
   ]
  },
  {
   "cell_type": "code",
   "execution_count": 8,
   "id": "a968d73f",
   "metadata": {},
   "outputs": [
    {
     "name": "stdout",
     "output_type": "stream",
     "text": [
      "            game_id  year_id fran_id      opp_fran game_location  is_playoffs  \\\n",
      "23469  201310300NYK     2014  Knicks         Bucks             H            0   \n",
      "23473  201310310CHI     2014  Knicks         Bulls             A            0   \n",
      "23480  201311030NYK     2014  Knicks  Timberwolves             H            0   \n",
      "23486  201311050NYK     2014  Knicks       Hornets             H            0   \n",
      "23490  201311080CHA     2014  Knicks       Hornets             A            0   \n",
      "...             ...      ...     ...           ...           ...          ...   \n",
      "23849  201404060MIA     2014  Knicks          Heat             A            0   \n",
      "23863  201404110TOR     2014  Knicks       Raptors             A            0   \n",
      "23867  201404130NYK     2014  Knicks         Bulls             H            0   \n",
      "23871  201404150BRK     2014  Knicks          Nets             A            0   \n",
      "23875  201404160NYK     2014  Knicks       Raptors             H            0   \n",
      "\n",
      "       pts  opp_pts game_result  forecast  point_diff  \n",
      "23469   90       83           W  0.793150           7  \n",
      "23473   81       82           L  0.450548          -1  \n",
      "23480  100      109           L  0.743451          -9  \n",
      "23486   97      102           L  0.859953          -5  \n",
      "23490  101       91           W  0.609892          10  \n",
      "...    ...      ...         ...       ...         ...  \n",
      "23849   91      102           L  0.181657         -11  \n",
      "23863  108      100           W  0.235135           8  \n",
      "23867  100       89           W  0.504750          11  \n",
      "23871  109       98           W  0.324972          11  \n",
      "23875   95       92           W  0.569737           3  \n",
      "\n",
      "[82 rows x 11 columns]\n"
     ]
    }
   ],
   "source": [
    "# compare 2010 with 2014\n",
    "# seperate knicks and nets in 2014 df\n",
    "knicks_pts14  = nba_2014[nba_2014.fran_id == \"Knicks\"]\n",
    "nets_pts14 = nba_2014[nba_2014.fran_id == \"Nets\"]\n",
    "print(knicks_pts14)"
   ]
  },
  {
   "cell_type": "code",
   "execution_count": 9,
   "id": "9ccd0e67",
   "metadata": {},
   "outputs": [
    {
     "name": "stdout",
     "output_type": "stream",
     "text": [
      "0.44706798131809933\n"
     ]
    }
   ],
   "source": [
    "# difference between teams average points\n",
    "avgKnicks14 = np.mean(knicks_pts14.pts)\n",
    "avgnets14 = np.mean(nets_pts14.pts)\n",
    "diff_means_2014 = avgKnicks14 - avgnets14\n",
    "print(diff_means_2014)\n",
    "# the difference reduced between 2010 and 2014 "
   ]
  },
  {
   "cell_type": "code",
   "execution_count": 13,
   "id": "a0bf0654",
   "metadata": {},
   "outputs": [
    {
     "data": {
      "image/png": "[encoded data removed]",
      "text/plain": [
       "<Figure size 432x288 with 1 Axes>"
      ]
     },
     "metadata": {
      "needs_background": "light"
     },
     "output_type": "display_data"
    },
    {
     "data": {
      "image/png": "[encoded data removed]",
      "text/plain": [
       "<Figure size 432x288 with 1 Axes>"
      ]
     },
     "metadata": {
      "needs_background": "light"
     },
     "output_type": "display_data"
    }
   ],
   "source": [
    "# create histogram to view assocation\n",
    "plt.clf()\n",
    "plt.hist(knicks_pts14.pts,color = \"green\" ,alpha =0.5,label='knicks14')\n",
    "plt.hist(nets_pts14.pts,color = \"yellow\" ,alpha =0.5,label='nets14')\n",
    "plt.legend()\n",
    "plt.show()\n",
    "# both plots are very similar meaning there's almost no relationship between knicks and nets scores in 2014 \n",
    "# create boxplots for every team points in 2010 \n",
    "plt.clf()\n",
    "sns.boxplot(data = nba_2010, x =\"fran_id\",y= \"pts\")\n",
    "plt.xlabel(\"Teams\")\n",
    "plt.show()"
   ]
  },
  {
   "cell_type": "code",
   "execution_count": 14,
   "id": "3d3cba97",
   "metadata": {},
   "outputs": [
    {
     "name": "stdout",
     "output_type": "stream",
     "text": [
      "game_result      L    W\n",
      "game_location          \n",
      "A              133   92\n",
      "H              105  120\n",
      "game_result           L         W\n",
      "game_location                    \n",
      "A              0.295556  0.204444\n",
      "H              0.233333  0.266667\n",
      "[[0.26 0.24]\n",
      " [0.26 0.24]]\n",
      "3.529491041699698\n",
      "[[  0.05   1.37]\n",
      " [  1.37 186.56]]\n"
     ]
    }
   ],
   "source": [
    "# make contegency results table for result and locations\n",
    "location_result_freq = pd.crosstab(nba_2010.game_location,nba_2010.game_result)\n",
    "print(location_result_freq)\n",
    "# calculate proportions\n",
    "location_result_proportions = location_result_freq / len(nba_2010)\n",
    "print(location_result_proportions)\n",
    "\n",
    "#  calculate expected and chi2 contigences\n",
    "chi2,pural,dif,expected = chi2_contingency(location_result_proportions)\n",
    "print(expected)\n",
    "# the difference between the expected and contigency results suggets the existence of association between the variables\n",
    "print(chi2)\n",
    "\n",
    "# getting covariance between forecast and point difference in 2010\n",
    "covmat1 = np.cov(nba_2010.forecast,nba_2010.point_diff)\n",
    "print(covmat1)\n",
    "cov1 = covmat1[0][1]\n",
    "# the postive covaiance shows that the forecast was accurate most times \n"
   ]
  },
  {
   "cell_type": "code",
   "execution_count": 15,
   "id": "1ac5b1aa",
   "metadata": {},
   "outputs": [
    {
     "name": "stdout",
     "output_type": "stream",
     "text": [
      "(0.44020887084680815, 9.410391573138826e-23)\n"
     ]
    },
    {
     "data": {
      "image/png": "[encoded data removed]",
      "text/plain": [
       "<Figure size 432x288 with 1 Axes>"
      ]
     },
     "metadata": {
      "needs_background": "light"
     },
     "output_type": "display_data"
    }
   ],
   "source": [
    "# calculating the correlation between the variables\n",
    "corr = pearsonr(nba_2010.forecast,nba_2010.point_diff)\n",
    "print(corr)\n",
    "# the positive correlation suggest there's a positive relationships but as the number is closer to 0 the relationship is not strong '\n",
    "# make a scatter plot for better vizualiation\n",
    "plt.clf()\n",
    "plt.scatter(x =nba_2010.forecast, y = nba_2010.point_diff)\n",
    "plt.show()"
   ]
  },
  {
   "cell_type": "code",
   "execution_count": null,
   "id": "8078e2f0",
   "metadata": {},
   "outputs": [],
   "source": []
  },
  {
   "cell_type": "code",
   "execution_count": null,
   "id": "413510d2",
   "metadata": {},
   "outputs": [],
   "source": []
  }
 ],
 "metadata": {
  "kernelspec": {
   "display_name": "Python 3",
   "language": "python",
   "name": "python3"
  },
  "language_info": {
   "codemirror_mode": {
    "name": "ipython",
    "version": 3
   },
   "file_extension": ".py",
   "mimetype": "text/x-python",
   "name": "python",
   "nbconvert_exporter": "python",
   "pygments_lexer": "ipython3",
   "version": "3.8.8"
  }
 },
 "nbformat": 4,
 "nbformat_minor": 5
}
